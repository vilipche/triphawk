{
 "cells": [
  {
   "cell_type": "code",
   "execution_count": 1,
   "metadata": {},
   "outputs": [],
   "source": [
    "from __future__ import barry_as_FLUFL\n",
    "from pyspark.sql import SparkSession\n",
    "from pyspark.sql.functions import explode\n",
    "from pyspark.sql import Row\n"
   ]
  },
  {
   "cell_type": "code",
   "execution_count": 2,
   "metadata": {},
   "outputs": [
    {
     "name": "stderr",
     "output_type": "stream",
     "text": [
      "/home/bdm/.local/lib/python3.6/site-packages/pyspark/context.py:238: FutureWarning: Python 3.6 support is deprecated in Spark 3.2.\n",
      "  FutureWarning\n"
     ]
    }
   ],
   "source": [
    "spark = SparkSession \\\n",
    "    .builder \\\n",
    "    .master(f\"local[*]\") \\\n",
    "    .appName(\"myApp\") \\\n",
    "    .config('spark.jars.packages', 'org.mongodb.spark:mongo-spark-connector_2.12:3.0.1') \\\n",
    "    .getOrCreate()"
   ]
  },
  {
   "cell_type": "code",
   "execution_count": 3,
   "metadata": {},
   "outputs": [],
   "source": [
    "restaurantRDD = spark.read.format(\"mongo\")\\\n",
    "    .option('uri', f\"mongodb://127.0.0.1/triphawk.restaurant\") \\\n",
    "    .load() \\\n",
    "    .rdd.cache()"
   ]
  },
  {
   "cell_type": "code",
   "execution_count": 7,
   "metadata": {},
   "outputs": [
    {
     "data": {
      "text/plain": [
       "2100"
      ]
     },
     "execution_count": 7,
     "metadata": {},
     "output_type": "execute_result"
    }
   ],
   "source": [
    "# in case you wanna use it\n",
    "restaurantRDD.map(lambda x: x.data).flatMap(lambda x: x).map(lambda x: x.id).collect()"
   ]
  },
  {
   "cell_type": "code",
   "execution_count": 5,
   "metadata": {},
   "outputs": [],
   "source": [
    "def appendRowWithDictionary(a: Row, b: dict):\n",
    "    c = a.asDict()\n",
    "    c.update(b)\n",
    "    return c"
   ]
  },
  {
   "cell_type": "code",
   "execution_count": 6,
   "metadata": {},
   "outputs": [],
   "source": [
    "def putIdInside(id, array, keyName: str):\n",
    "    new = []\n",
    "    for row in array:\n",
    "        updatedrow = Row(**appendRowWithDictionary(row, {keyName: id.oid}))\n",
    "        new.append(updatedrow)\n",
    "    return new "
   ]
  },
  {
   "cell_type": "code",
   "execution_count": 7,
   "metadata": {},
   "outputs": [],
   "source": [
    "# reduce the categories to a list of titles\n",
    "categoriesRDD = restaurantRDD.map(lambda x: x.data).flatMap(lambda x:x).map(lambda x: (x.id, [ i.title for i in x.categories]))\n"
   ]
  },
  {
   "cell_type": "code",
   "execution_count": 8,
   "metadata": {},
   "outputs": [],
   "source": [
    "# put city array inside the data\n",
    "innerRDD = restaurantRDD.map(lambda x: (x._id, x.data)) \\\n",
    "        .map(lambda x: putIdInside(x[0], x[1], 'city_id')).flatMap(lambda x:x)\n",
    "        # .map(lambda x: (x.id, x.alias))\n",
    "        # .map(lambda x: (x.id, Row(city_id=x.city_id, coordinates=x.coordinates, image_url=x.image_url, location=x.location, name=x.name, phone=x.phone)))"
   ]
  },
  {
   "cell_type": "code",
   "execution_count": 9,
   "metadata": {},
   "outputs": [
    {
     "data": {
      "text/plain": [
       "('zJJmydXzNX5vfbeuU_WDOg', 736.4107646831667)"
      ]
     },
     "execution_count": 9,
     "metadata": {},
     "output_type": "execute_result"
    }
   ],
   "source": [
    "minBusinessRDD = innerRDD.map(lambda x: (x.id, x.distance)).groupByKey().mapValues(min)\n",
    "minBusinessRDD.first()"
   ]
  },
  {
   "cell_type": "code",
   "execution_count": 10,
   "metadata": {},
   "outputs": [
    {
     "data": {
      "text/plain": [
       "('zJJmydXzNX5vfbeuU_WDOg',\n",
       " Row(alias='somorrostro-barcelona', categories=[Row(alias='catalan', title='Catalan'), Row(alias='seafood', title='Seafood')], coordinates=Row(latitude=41.37911, longitude=2.18904), display_phone='+34 932 25 00 10', distance=736.4107646831667, id='zJJmydXzNX5vfbeuU_WDOg', image_url='https://s3-media2.fl.yelpcdn.com/bphoto/GHoJBoGtROMQmJLLb8rleQ/o.jpg', is_closed=False, location=Row(address1='Carrer de Sant Carles, 11', address2='', address3='', city='Barcelona', zip_code='08003', country='ES', state='B', display_address=['Carrer de Sant Carles, 11', '08003 Barcelona', 'Spain']), name='Somorrostro', phone='+34932250010', price='€€', rating=4.5, review_count=368, url='https://www.yelp.com/biz/somorrostro-barcelona?adjust_creative=RqA1ZEM6WDtG1E9qg1EMig&utm_campaign=yelp_api_v3&utm_medium=api_v3_business_search&utm_source=RqA1ZEM6WDtG1E9qg1EMig', city_id='6249a61d355e2a8dc7c00755'))"
      ]
     },
     "execution_count": 10,
     "metadata": {},
     "output_type": "execute_result"
    }
   ],
   "source": [
    "cityInBusinessRDD = restaurantRDD.map(lambda x: (x._id, x.data)).map(lambda x: putIdInside(x[0], x[1], 'city_id')).flatMap(lambda x: x).map(lambda x: (x.id, x))\n",
    "cityInBusinessRDD.first()"
   ]
  },
  {
   "cell_type": "code",
   "execution_count": 60,
   "metadata": {},
   "outputs": [],
   "source": [
    "def updateCategories(row):\n",
    "    res = [i.title for i in row.categories]\n",
    "    newRow = Row(**appendRowWithDictionary(row, {\"categories\": res}))\n",
    "    return newRow\n",
    "    "
   ]
  },
  {
   "cell_type": "code",
   "execution_count": 64,
   "metadata": {},
   "outputs": [],
   "source": [
    "def concatenateAddress(a1, a2, a3):\n",
    "    return f\"{a1} {a2} {a3}\".rstrip()"
   ]
  },
  {
   "cell_type": "code",
   "execution_count": 65,
   "metadata": {},
   "outputs": [],
   "source": [
    "def updateAddress(row):\n",
    "    loc = row.location\n",
    "    res = concatenateAddress(loc.address1, loc.address2, loc.address3)\n",
    "    newRow = Row(**appendRowWithDictionary(row.location, {\"address\": res}))\n",
    "    return newRow"
   ]
  },
  {
   "cell_type": "code",
   "execution_count": 68,
   "metadata": {},
   "outputs": [],
   "source": [
    "def updateLocation(row, locationRow):\n",
    "    return Row(**appendRowWithDictionary(row, {'location': locationRow}))"
   ]
  },
  {
   "cell_type": "code",
   "execution_count": 103,
   "metadata": {},
   "outputs": [],
   "source": [
    "def removeDataColumns(row, columnsFirst: str, columnsLocation: str):\n",
    "    dict = row.asDict(True) #recursive\n",
    "    for col in columnsFirst:\n",
    "        dict.pop(col)\n",
    "    \n",
    "    for col in columnsLocation:\n",
    "        dict['location'].pop(col)\n",
    "    return Row(**dict)"
   ]
  },
  {
   "cell_type": "code",
   "execution_count": 106,
   "metadata": {},
   "outputs": [
    {
     "data": {
      "text/plain": [
       "('zJJmydXzNX5vfbeuU_WDOg',\n",
       " Row(categories=['Catalan', 'Seafood'], coordinates={'latitude': 41.37911, 'longitude': 2.18904}, id='zJJmydXzNX5vfbeuU_WDOg', image_url='https://s3-media2.fl.yelpcdn.com/bphoto/GHoJBoGtROMQmJLLb8rleQ/o.jpg', location={'city': 'Barcelona', 'zip_code': '08003', 'country': 'ES', 'address': 'Carrer de Sant Carles, 11'}, name='Somorrostro', phone='+34932250010', price='€€', rating=4.5, review_count=368, url='https://www.yelp.com/biz/somorrostro-barcelona?adjust_creative=RqA1ZEM6WDtG1E9qg1EMig&utm_campaign=yelp_api_v3&utm_medium=api_v3_business_search&utm_source=RqA1ZEM6WDtG1E9qg1EMig', city_id='6249a61d355e2a8dc7c00755'))"
      ]
     },
     "execution_count": 106,
     "metadata": {},
     "output_type": "execute_result"
    }
   ],
   "source": [
    "# find the right businesses for each neighborhood\n",
    "businessByDistanceRDD = minBusinessRDD.join(cityInBusinessRDD)\\\n",
    "    .filter(lambda x: x[1][0] == x[1][1].distance)\\\n",
    "    .map(lambda x: (x[0], x[1][1]))\\\n",
    "    .map(lambda x: (x[0], updateCategories(x[1]))) \\\n",
    "    .map(lambda x: (x[0], updateLocation(x[1], updateAddress(x[1])) )) \\\n",
    "    .map(lambda x: (x[0], removeDataColumns(x[1], ['alias', 'display_phone', 'distance', 'is_closed'], ['address1', 'address2', 'address3', 'state', 'display_address' ]) )) \n",
    "\n",
    "businessByDistanceRDD.first()"
   ]
  },
  {
   "cell_type": "code",
   "execution_count": 122,
   "metadata": {},
   "outputs": [
    {
     "data": {
      "text/plain": [
       "21"
      ]
     },
     "execution_count": 122,
     "metadata": {},
     "output_type": "execute_result"
    }
   ],
   "source": [
    "businessesRDD = businessByDistance.map(lambda x: (x[1].city_id, x[1])).groupByKey().mapValues(list)\n",
    "# map(lambda x: (x[1][1], x[1][1])).groupByKey().mapValues(list)\n",
    "# businessesRDD.first()\n",
    "businessesRDD.count()"
   ]
  },
  {
   "cell_type": "code",
   "execution_count": 129,
   "metadata": {},
   "outputs": [
    {
     "data": {
      "text/plain": [
       "('6249a61d355e2a8dc7c00755', ('Barceloneta', 'restaurant'))"
      ]
     },
     "execution_count": 129,
     "metadata": {},
     "output_type": "execute_result"
    }
   ],
   "source": [
    "# get the first level in JSON with the id of the city\n",
    "firstLevelRDD = restaurantRDD.map(lambda x: (x._id.oid, (x.location, x.type)))\n",
    "# newrdd.count()\n",
    "firstLevelRDD.first()"
   ]
  },
  {
   "cell_type": "code",
   "execution_count": 144,
   "metadata": {},
   "outputs": [],
   "source": [
    "# treba da gi spojam mesto i restoram\n",
    "finalRDD = businessesRDD.join(firstLevelRDD).map(lambda x: Row(_id=x[0],location=x[1][1][0], type=x[1][1][1], data=x[1][0]))"
   ]
  },
  {
   "cell_type": "code",
   "execution_count": 146,
   "metadata": {},
   "outputs": [
    {
     "name": "stdout",
     "output_type": "stream",
     "text": [
      "root\n",
      " |-- _id: string (nullable = true)\n",
      " |-- location: string (nullable = true)\n",
      " |-- type: string (nullable = true)\n",
      " |-- data: array (nullable = true)\n",
      " |    |-- element: struct (containsNull = true)\n",
      " |    |    |-- categories: array (nullable = true)\n",
      " |    |    |    |-- element: string (containsNull = true)\n",
      " |    |    |-- coordinates: map (nullable = true)\n",
      " |    |    |    |-- key: string\n",
      " |    |    |    |-- value: double (valueContainsNull = true)\n",
      " |    |    |-- id: string (nullable = true)\n",
      " |    |    |-- image_url: string (nullable = true)\n",
      " |    |    |-- location: map (nullable = true)\n",
      " |    |    |    |-- key: string\n",
      " |    |    |    |-- value: string (valueContainsNull = true)\n",
      " |    |    |-- name: string (nullable = true)\n",
      " |    |    |-- phone: string (nullable = true)\n",
      " |    |    |-- price: string (nullable = true)\n",
      " |    |    |-- rating: double (nullable = true)\n",
      " |    |    |-- review_count: long (nullable = true)\n",
      " |    |    |-- url: string (nullable = true)\n",
      " |    |    |-- city_id: string (nullable = true)\n",
      "\n"
     ]
    }
   ],
   "source": [
    "finalDF = finalRDD.toDF()\n",
    "finalDF.printSchema()"
   ]
  },
  {
   "cell_type": "code",
   "execution_count": 148,
   "metadata": {},
   "outputs": [],
   "source": [
    "finalDF.write\\\n",
    "    .format(\"mongo\")\\\n",
    "    .mode(\"append\")\\\n",
    "    .option('uri', f\"mongodb://127.0.0.1/triphawk.restaurant_new\").save()"
   ]
  }
 ],
 "metadata": {
  "interpreter": {
   "hash": "31f2aee4e71d21fbe5cf8b01ff0e069b9275f58929596ceb00d14d90e3e16cd6"
  },
  "kernelspec": {
   "display_name": "Python 3.6.8 64-bit",
   "language": "python",
   "name": "python3"
  },
  "language_info": {
   "codemirror_mode": {
    "name": "ipython",
    "version": 3
   },
   "file_extension": ".py",
   "mimetype": "text/x-python",
   "name": "python",
   "nbconvert_exporter": "python",
   "pygments_lexer": "ipython3",
   "version": "3.6.8"
  },
  "orig_nbformat": 4
 },
 "nbformat": 4,
 "nbformat_minor": 2
}
